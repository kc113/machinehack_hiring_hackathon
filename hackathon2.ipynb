{
  "nbformat": 4,
  "nbformat_minor": 0,
  "metadata": {
    "colab": {
      "name": "hackathon2",
      "provenance": [],
      "collapsed_sections": [],
      "mount_file_id": "1SW_AGt00JBCy-4No9AD95qY4BC2CGAPJ",
      "authorship_tag": "ABX9TyPJKK44lo93ZfwJEVTlmvY5"
    },
    "kernelspec": {
      "name": "python3",
      "display_name": "Python 3"
    },
    "accelerator": "GPU"
  },
  "cells": [
    {
      "cell_type": "code",
      "metadata": {
        "colab": {
          "base_uri": "https://localhost:8080/"
        },
        "id": "_SyNn2uO9qNE",
        "outputId": "d840c798-4a67-429c-be5b-0d065eb2c866"
      },
      "source": [
        "!pip install sweetviz"
      ],
      "execution_count": null,
      "outputs": [
        {
          "output_type": "stream",
          "text": [
            "Requirement already satisfied: sweetviz in /usr/local/lib/python3.6/dist-packages (1.1.2)\n",
            "Requirement already satisfied: tqdm>=4.43.0 in /usr/local/lib/python3.6/dist-packages (from sweetviz) (4.53.0)\n",
            "Requirement already satisfied: pandas!=1.0.0,!=1.0.1,!=1.0.2,>=0.25.3 in /usr/local/lib/python3.6/dist-packages (from sweetviz) (1.1.4)\n",
            "Requirement already satisfied: importlib-resources>=1.2.0 in /usr/local/lib/python3.6/dist-packages (from sweetviz) (3.3.0)\n",
            "Requirement already satisfied: numpy>=1.16.0 in /usr/local/lib/python3.6/dist-packages (from sweetviz) (1.18.5)\n",
            "Requirement already satisfied: jinja2>=2.11.1 in /usr/local/lib/python3.6/dist-packages (from sweetviz) (2.11.2)\n",
            "Requirement already satisfied: scipy>=1.3.2 in /usr/local/lib/python3.6/dist-packages (from sweetviz) (1.4.1)\n",
            "Requirement already satisfied: matplotlib>=3.1.3 in /usr/local/lib/python3.6/dist-packages (from sweetviz) (3.2.2)\n",
            "Requirement already satisfied: python-dateutil>=2.7.3 in /usr/local/lib/python3.6/dist-packages (from pandas!=1.0.0,!=1.0.1,!=1.0.2,>=0.25.3->sweetviz) (2.8.1)\n",
            "Requirement already satisfied: pytz>=2017.2 in /usr/local/lib/python3.6/dist-packages (from pandas!=1.0.0,!=1.0.1,!=1.0.2,>=0.25.3->sweetviz) (2018.9)\n",
            "Requirement already satisfied: zipp>=0.4; python_version < \"3.8\" in /usr/local/lib/python3.6/dist-packages (from importlib-resources>=1.2.0->sweetviz) (3.4.0)\n",
            "Requirement already satisfied: MarkupSafe>=0.23 in /usr/local/lib/python3.6/dist-packages (from jinja2>=2.11.1->sweetviz) (1.1.1)\n",
            "Requirement already satisfied: pyparsing!=2.0.4,!=2.1.2,!=2.1.6,>=2.0.1 in /usr/local/lib/python3.6/dist-packages (from matplotlib>=3.1.3->sweetviz) (2.4.7)\n",
            "Requirement already satisfied: kiwisolver>=1.0.1 in /usr/local/lib/python3.6/dist-packages (from matplotlib>=3.1.3->sweetviz) (1.3.1)\n",
            "Requirement already satisfied: cycler>=0.10 in /usr/local/lib/python3.6/dist-packages (from matplotlib>=3.1.3->sweetviz) (0.10.0)\n",
            "Requirement already satisfied: six>=1.5 in /usr/local/lib/python3.6/dist-packages (from python-dateutil>=2.7.3->pandas!=1.0.0,!=1.0.1,!=1.0.2,>=0.25.3->sweetviz) (1.15.0)\n"
          ],
          "name": "stdout"
        }
      ]
    },
    {
      "cell_type": "code",
      "metadata": {
        "id": "-RZ4i3fckDje"
      },
      "source": [
        "import numpy as np\n",
        "import pandas as pd\n",
        "import datetime as dt\n",
        "import matplotlib.pyplot as plt\n",
        "%matplotlib inline\n",
        "from scipy import stats\n",
        "from sklearn.model_selection import train_test_split\n",
        "from sklearn.linear_model import LinearRegression\n",
        "from sklearn.metrics import mean_squared_error\n",
        "import sys\n",
        "from sklearn.preprocessing import StandardScaler\n",
        "from scipy.sparse import hstack\n",
        "from sklearn.preprocessing import OneHotEncoder\n",
        "import seaborn as sns\n",
        "#import sweetviz\n",
        "from sklearn.model_selection import cross_val_score\n",
        "from sklearn.model_selection import RandomizedSearchCV"
      ],
      "execution_count": null,
      "outputs": []
    },
    {
      "cell_type": "code",
      "metadata": {
        "id": "KiMfv3nRkjYa"
      },
      "source": [
        "df = pd.read_csv('/content/drive/My Drive/Train.csv', parse_dates = ['InvoiceDate'])\n",
        "test = pd.read_csv('/content/drive/My Drive/Test.csv', parse_dates = ['InvoiceDate'])"
      ],
      "execution_count": null,
      "outputs": []
    },
    {
      "cell_type": "code",
      "metadata": {
        "id": "Ji2sdnviGiFM"
      },
      "source": [
        "df.drop_duplicates(inplace = True)\n",
        "df['Quantity'] = abs(df['Quantity'])\n",
        "df = df[(df['Quantity'] < 10000) & (np.abs(stats.zscore(df['UnitPrice'])) < 3) & (df['UnitPrice'] > 0)]"
      ],
      "execution_count": null,
      "outputs": []
    },
    {
      "cell_type": "code",
      "metadata": {
        "id": "uP3lPZnT-ES2"
      },
      "source": [
        "#my_report = sweetviz.compare([df.drop(['InvoiceDate'],axis=1), \"Train\"], [test.drop(['InvoiceDate'],axis=1), \"Test\"], \"UnitPrice\")\n",
        "#my_report.show_html(\"Report.html\")"
      ],
      "execution_count": null,
      "outputs": []
    },
    {
      "cell_type": "code",
      "metadata": {
        "colab": {
          "base_uri": "https://localhost:8080/",
          "height": 386
        },
        "id": "-SHMDDyK9Q1B",
        "outputId": "7766bd30-c0a3-4a25-9cbd-4d0beb340fb3"
      },
      "source": [
        "sns.displot(df['UnitPrice'])"
      ],
      "execution_count": null,
      "outputs": [
        {
          "output_type": "execute_result",
          "data": {
            "text/plain": [
              "<seaborn.axisgrid.FacetGrid at 0x7fa50f4858d0>"
            ]
          },
          "metadata": {
            "tags": []
          },
          "execution_count": 9
        },
        {
          "output_type": "display_data",
          "data": {
            "image/png": "[encoded data removed]",
            "text/plain": [
              "<Figure size 360x360 with 1 Axes>"
            ]
          },
          "metadata": {
            "tags": [],
            "needs_background": "light"
          }
        }
      ]
    },
    {
      "cell_type": "code",
      "metadata": {
        "colab": {
          "base_uri": "https://localhost:8080/",
          "height": 386
        },
        "id": "lOln2Q5b8L8T",
        "outputId": "482253ef-702c-44f3-f26b-3c89be3b75bf"
      },
      "source": [
        "df['UnitPrice'] = np.log1p(df['UnitPrice'])\n",
        "sns.displot(df['UnitPrice'])"
      ],
      "execution_count": null,
      "outputs": [
        {
          "output_type": "execute_result",
          "data": {
            "text/plain": [
              "<seaborn.axisgrid.FacetGrid at 0x7fa4e5feecc0>"
            ]
          },
          "metadata": {
            "tags": []
          },
          "execution_count": 219
        },
        {
          "output_type": "display_data",
          "data": {
            "image/png": "[encoded data removed]",
            "text/plain": [
              "<Figure size 360x360 with 1 Axes>"
            ]
          },
          "metadata": {
            "tags": [],
            "needs_background": "light"
          }
        }
      ]
    },
    {
      "cell_type": "code",
      "metadata": {
        "colab": {
          "base_uri": "https://localhost:8080/"
        },
        "id": "TUuU05VG9uGQ",
        "outputId": "4675890a-95f2-41b9-9bb3-c9ba6934d03a"
      },
      "source": [
        "df.describe()\n",
        "df.nunique()"
      ],
      "execution_count": null,
      "outputs": [
        {
          "output_type": "execute_result",
          "data": {
            "text/plain": [
              "InvoiceNo      20894\n",
              "StockCode       3618\n",
              "Description     3817\n",
              "Quantity         267\n",
              "InvoiceDate    19392\n",
              "UnitPrice        454\n",
              "CustomerID      4332\n",
              "Country           37\n",
              "dtype: int64"
            ]
          },
          "metadata": {
            "tags": []
          },
          "execution_count": 12
        }
      ]
    },
    {
      "cell_type": "code",
      "metadata": {
        "id": "ZtmLhh-t_Gkx"
      },
      "source": [
        "# Extracting Date features \n",
        "def date_features(df):\n",
        "    #df['year'] = df['InvoiceDate'].dt.year\n",
        "    df['month'] = df['InvoiceDate'].dt.month\n",
        "    df['dayofweek'] = df['InvoiceDate'].dt.dayofweek\n",
        "    df['day'] = df['InvoiceDate'].dt.day\n",
        "    #df['dayofyear'] = df['InvoiceDate'].dt.dayofyear\n",
        "    #df['week'] = df['InvoiceDate'].dt.week \n",
        "    #df['quarter'] = df['InvoiceDate'].dt.quarter  \n",
        "    #df['Is_month_start'] = df['InvoiceDate'].dt.is_month_start \n",
        "    #df['Is_month_end'] = df['InvoiceDate'].dt.is_month_end\n",
        "    #df['Is_quarter_start'] = df['InvoiceDate'].dt.is_quarter_start\n",
        "    #df['Is_quarter_end'] = df['InvoiceDate'].dt.is_quarter_end \n",
        "    #df['Is_year_start'] = df['InvoiceDate'].dt.is_year_start \n",
        "    #df['Is_year_end'] = df['InvoiceDate'].dt.is_year_end \n",
        "    #df['daysinmonth'] = df['InvoiceDate'].dt.days_in_month \n",
        "    #df['isweekday'] = np.where(df['dayofweek'].isin([0,1,2,3,4]),1,0) \n",
        "    return df"
      ],
      "execution_count": null,
      "outputs": []
    },
    {
      "cell_type": "code",
      "metadata": {
        "id": "4oghGPemCZg7"
      },
      "source": [
        "train = date_features(df)\n",
        "test = date_features(test)"
      ],
      "execution_count": null,
      "outputs": []
    },
    {
      "cell_type": "code",
      "metadata": {
        "colab": {
          "base_uri": "https://localhost:8080/",
          "height": 204
        },
        "id": "98lZgUPQk1rC",
        "outputId": "73340734-eace-41ef-85ee-96733b79e71a"
      },
      "source": [
        "train.head()"
      ],
      "execution_count": null,
      "outputs": [
        {
          "output_type": "execute_result",
          "data": {
            "text/html": [
              "<div>\n",
              "<style scoped>\n",
              "    .dataframe tbody tr th:only-of-type {\n",
              "        vertical-align: middle;\n",
              "    }\n",
              "\n",
              "    .dataframe tbody tr th {\n",
              "        vertical-align: top;\n",
              "    }\n",
              "\n",
              "    .dataframe thead th {\n",
              "        text-align: right;\n",
              "    }\n",
              "</style>\n",
              "<table border=\"1\" class=\"dataframe\">\n",
              "  <thead>\n",
              "    <tr style=\"text-align: right;\">\n",
              "      <th></th>\n",
              "      <th>InvoiceNo</th>\n",
              "      <th>StockCode</th>\n",
              "      <th>Description</th>\n",
              "      <th>Quantity</th>\n",
              "      <th>InvoiceDate</th>\n",
              "      <th>UnitPrice</th>\n",
              "      <th>CustomerID</th>\n",
              "      <th>Country</th>\n",
              "      <th>month</th>\n",
              "      <th>dayofweek</th>\n",
              "      <th>day</th>\n",
              "    </tr>\n",
              "  </thead>\n",
              "  <tbody>\n",
              "    <tr>\n",
              "      <th>0</th>\n",
              "      <td>6141</td>\n",
              "      <td>1583</td>\n",
              "      <td>144</td>\n",
              "      <td>3</td>\n",
              "      <td>2011-05-06 16:54:00</td>\n",
              "      <td>1.558145</td>\n",
              "      <td>14056.0</td>\n",
              "      <td>35</td>\n",
              "      <td>5</td>\n",
              "      <td>4</td>\n",
              "      <td>6</td>\n",
              "    </tr>\n",
              "    <tr>\n",
              "      <th>1</th>\n",
              "      <td>6349</td>\n",
              "      <td>1300</td>\n",
              "      <td>3682</td>\n",
              "      <td>6</td>\n",
              "      <td>2011-05-11 07:35:00</td>\n",
              "      <td>1.081805</td>\n",
              "      <td>13098.0</td>\n",
              "      <td>35</td>\n",
              "      <td>5</td>\n",
              "      <td>2</td>\n",
              "      <td>11</td>\n",
              "    </tr>\n",
              "    <tr>\n",
              "      <th>2</th>\n",
              "      <td>16783</td>\n",
              "      <td>2178</td>\n",
              "      <td>1939</td>\n",
              "      <td>4</td>\n",
              "      <td>2011-11-20 13:20:00</td>\n",
              "      <td>1.938742</td>\n",
              "      <td>15044.0</td>\n",
              "      <td>35</td>\n",
              "      <td>11</td>\n",
              "      <td>6</td>\n",
              "      <td>20</td>\n",
              "    </tr>\n",
              "    <tr>\n",
              "      <th>3</th>\n",
              "      <td>16971</td>\n",
              "      <td>2115</td>\n",
              "      <td>2983</td>\n",
              "      <td>1</td>\n",
              "      <td>2011-11-22 12:07:00</td>\n",
              "      <td>0.604316</td>\n",
              "      <td>15525.0</td>\n",
              "      <td>35</td>\n",
              "      <td>11</td>\n",
              "      <td>1</td>\n",
              "      <td>22</td>\n",
              "    </tr>\n",
              "    <tr>\n",
              "      <th>4</th>\n",
              "      <td>6080</td>\n",
              "      <td>1210</td>\n",
              "      <td>2886</td>\n",
              "      <td>12</td>\n",
              "      <td>2011-05-06 09:00:00</td>\n",
              "      <td>0.974560</td>\n",
              "      <td>13952.0</td>\n",
              "      <td>35</td>\n",
              "      <td>5</td>\n",
              "      <td>4</td>\n",
              "      <td>6</td>\n",
              "    </tr>\n",
              "  </tbody>\n",
              "</table>\n",
              "</div>"
            ],
            "text/plain": [
              "   InvoiceNo  StockCode  Description  Quantity  ... Country  month  dayofweek  day\n",
              "0       6141       1583          144         3  ...      35      5          4    6\n",
              "1       6349       1300         3682         6  ...      35      5          2   11\n",
              "2      16783       2178         1939         4  ...      35     11          6   20\n",
              "3      16971       2115         2983         1  ...      35     11          1   22\n",
              "4       6080       1210         2886        12  ...      35      5          4    6\n",
              "\n",
              "[5 rows x 11 columns]"
            ]
          },
          "metadata": {
            "tags": []
          },
          "execution_count": 207
        }
      ]
    },
    {
      "cell_type": "code",
      "metadata": {
        "id": "FjIaFHYxCjYR"
      },
      "source": [
        "def add_feature(df):\n",
        "  df['Quantity'] = abs(df['Quantity'])\n",
        "  df['unique_stock_per_invoice'] = df.groupby(['InvoiceNo'])['StockCode'].transform('nunique')\n",
        "  #df['unique_desc_per_invoice'] = df.groupby(['InvoiceNo'])['Description'].transform('nunique')\n",
        "  df['unique_stock_per_customer'] = df.groupby(['CustomerID'])['StockCode'].transform('nunique')\n",
        "  #df['unique_desc_per_customer'] = df.groupby(['CustomerID'])['Description'].transform('nunique')\n",
        "  #df['unique_desc_per_incust'] = df.groupby(['CustomerID', 'InvoiceNo'])['Description'].transform('nunique')\n",
        "  df['unique_desc_per_stock'] = df.groupby(['StockCode'])['Description'].transform('nunique')\n",
        "  df['quant_mean_per_desc'] = df.groupby(['StockCode', 'Description'])['Quantity'].transform('mean')\n",
        "  #df['quant_min_per_desc'] = df.groupby(['StockCode', 'Description'])['Quantity'].transform('min')\n",
        "  #df['quant_max_per_desc'] = df.groupby(['StockCode', 'Description'])['Quantity'].transform('max')\n",
        "  df['quant_median_per_desc'] = df.groupby(['StockCode', 'Description'])['Quantity'].transform('median')\n",
        "  #df['quant_std_per_custdesc'] = df.groupby(['CustomerID', 'Description'])['Quantity'].transform('std')\n",
        "  df['quant_mean_per_dadesc'] = df.groupby(['Description','day'])['Quantity'].transform('mean')\n",
        "  #df['quant_min_per_daydesc'] = df.groupby(['Description','day'])['Quantity'].transform('min')\n",
        "  #df['quant_max_per_daydesc'] = df.groupby(['Description','day'])['Quantity'].transform('max')\n",
        "  df['quant_median_per_daydesc'] = df.groupby(['Description','day'])['Quantity'].transform('median')\n",
        "  #df['quant_std_per_daydesc'] = df.groupby(['Description','day'])['Quantity'].\n",
        "\n",
        "  \n",
        "  "
      ],
      "execution_count": null,
      "outputs": []
    },
    {
      "cell_type": "code",
      "metadata": {
        "id": "Tz8lPjv4c4jr"
      },
      "source": [
        "total = pd.concat([train,test], 0)\n",
        "add_feature(total)"
      ],
      "execution_count": null,
      "outputs": []
    },
    {
      "cell_type": "code",
      "metadata": {
        "id": "CgZ1lwegdG5x"
      },
      "source": [
        "train_f = total[:train.shape[0]]\n",
        "test_f = total[train.shape[0]:]"
      ],
      "execution_count": null,
      "outputs": []
    },
    {
      "cell_type": "code",
      "metadata": {
        "colab": {
          "base_uri": "https://localhost:8080/"
        },
        "id": "DTlbpEYWdf2b",
        "outputId": "cc9f272d-968a-4237-8e11-41f08f7ab4af"
      },
      "source": [
        "#train_f.info()\n",
        "#test_f.info()\n",
        "train_f.columns\n",
        "test_f.columns"
      ],
      "execution_count": null,
      "outputs": [
        {
          "output_type": "execute_result",
          "data": {
            "text/plain": [
              "Index(['InvoiceNo', 'StockCode', 'Description', 'Quantity', 'InvoiceDate',\n",
              "       'UnitPrice', 'CustomerID', 'Country', 'month', 'dayofweek', 'day',\n",
              "       'unique_stock_per_invoice', 'unique_stock_per_customer',\n",
              "       'unique_desc_per_stock', 'quant_mean_per_desc', 'quant_median_per_desc',\n",
              "       'quant_mean_per_daydesc', 'quant_median_per_daydesc'],\n",
              "      dtype='object')"
            ]
          },
          "metadata": {
            "tags": []
          },
          "execution_count": 233
        }
      ]
    },
    {
      "cell_type": "code",
      "metadata": {
        "id": "LLsPNfHRe0kD"
      },
      "source": [
        "X = train_f.drop(columns = ['InvoiceNo', 'Country', 'InvoiceDate', 'UnitPrice'])\n",
        "y = train_f[['UnitPrice']]\n",
        "test_f = test_f.drop(columns = ['InvoiceNo', 'Country', 'InvoiceDate', 'UnitPrice'])"
      ],
      "execution_count": null,
      "outputs": []
    },
    {
      "cell_type": "code",
      "metadata": {
        "id": "p08A1kW8gQDC"
      },
      "source": [
        "X_train,X_test,y_train,y_test = train_test_split(X, y, test_size=0.1, random_state=1)"
      ],
      "execution_count": null,
      "outputs": []
    },
    {
      "cell_type": "markdown",
      "metadata": {
        "id": "20mBxBm3gaeS"
      },
      "source": [
        "## XGboost\n"
      ]
    },
    {
      "cell_type": "code",
      "metadata": {
        "id": "tELqNEZagYhm"
      },
      "source": [
        "from xgboost import XGBRegressor"
      ],
      "execution_count": null,
      "outputs": []
    },
    {
      "cell_type": "code",
      "metadata": {
        "colab": {
          "base_uri": "https://localhost:8080/"
        },
        "id": "Xe3g9WgKgiZb",
        "outputId": "5b667674-94b2-4c1a-ce85-c97df25affee"
      },
      "source": [
        "model_1 = XGBRegressor(learning_rate = 0.2, n_estimators = 1000, max_depth = -1, subsample = 0.7, seed=1, eval_metric='rmse')\n",
        "model_1.fit(X_train, y_train, eval_metric='rmse', eval_set=[(X_test, y_test)], early_stopping_rounds=50, verbose=100)"
      ],
      "execution_count": null,
      "outputs": [
        {
          "output_type": "stream",
          "text": [
            "[09:57:09] WARNING: /workspace/src/objective/regression_obj.cu:152: reg:linear is now deprecated in favor of reg:squarederror.\n",
            "[0]\tvalidation_0-rmse:0.891311\n",
            "Will train until validation_0-rmse hasn't improved in 50 rounds.\n",
            "[100]\tvalidation_0-rmse:0.418362\n",
            "[200]\tvalidation_0-rmse:0.271722\n",
            "[300]\tvalidation_0-rmse:0.230039\n",
            "[400]\tvalidation_0-rmse:0.212182\n",
            "[500]\tvalidation_0-rmse:0.202576\n",
            "[600]\tvalidation_0-rmse:0.195976\n",
            "[700]\tvalidation_0-rmse:0.189351\n",
            "[800]\tvalidation_0-rmse:0.183538\n",
            "[900]\tvalidation_0-rmse:0.178707\n",
            "[999]\tvalidation_0-rmse:0.174034\n"
          ],
          "name": "stdout"
        },
        {
          "output_type": "execute_result",
          "data": {
            "text/plain": [
              "XGBRegressor(base_score=0.5, booster='gbtree', colsample_bylevel=1,\n",
              "             colsample_bynode=1, colsample_bytree=1, eval_metric='rmse',\n",
              "             gamma=0, importance_type='gain', learning_rate=0.01,\n",
              "             max_delta_step=0, max_depth=7, min_child_weight=1, missing=None,\n",
              "             n_estimators=1000, n_jobs=1, nthread=None, objective='reg:linear',\n",
              "             random_state=0, reg_alpha=0, reg_lambda=1, scale_pos_weight=1,\n",
              "             seed=1, silent=None, subsample=0.7, verbosity=1)"
            ]
          },
          "metadata": {
            "tags": []
          },
          "execution_count": 300
        }
      ]
    },
    {
      "cell_type": "code",
      "metadata": {
        "colab": {
          "base_uri": "https://localhost:8080/"
        },
        "id": "LN0JLFSniXsC",
        "outputId": "ffff41b9-0d03-4e31-babb-e2c7353cdeb6"
      },
      "source": [
        "xgb = XGBRegressor(learning_rate = 0.01, n_estimators = 1000, max_depth = 9, subsample = 0.7, seed=1, n_jobs = -1)\n",
        "xgb_model = xgb.fit(X, y)\n"
      ],
      "execution_count": null,
      "outputs": [
        {
          "output_type": "stream",
          "text": [
            "[16:24:53] WARNING: /workspace/src/objective/regression_obj.cu:152: reg:linear is now deprecated in favor of reg:squarederror.\n"
          ],
          "name": "stdout"
        }
      ]
    },
    {
      "cell_type": "code",
      "metadata": {
        "id": "gdjtj7yRcFFK"
      },
      "source": [
        "xgb_model.save_model('xgb.h5')"
      ],
      "execution_count": null,
      "outputs": []
    },
    {
      "cell_type": "code",
      "metadata": {
        "id": "UNbSL7zfmWRp"
      },
      "source": [
        "#pd.DataFrame(list(zip(X.columns, xgb_model.feature_importances_*100)))"
      ],
      "execution_count": 1,
      "outputs": []
    },
    {
      "cell_type": "code",
      "metadata": {
        "colab": {
          "base_uri": "https://localhost:8080/"
        },
        "id": "oPbtlxjfktau",
        "outputId": "e0ec5465-e538-48db-8b64-e3b7d0bb7671"
      },
      "source": [
        "#score=cross_val_score(X=X,y=y,estimator=xgb,scoring='neg_root_mean_squared_error',cv=5)"
      ],
      "execution_count": null,
      "outputs": [
        {
          "output_type": "stream",
          "text": [
            "[06:20:45] WARNING: /workspace/src/objective/regression_obj.cu:152: reg:linear is now deprecated in favor of reg:squarederror.\n",
            "[06:29:43] WARNING: /workspace/src/objective/regression_obj.cu:152: reg:linear is now deprecated in favor of reg:squarederror.\n",
            "[06:38:39] WARNING: /workspace/src/objective/regression_obj.cu:152: reg:linear is now deprecated in favor of reg:squarederror.\n",
            "[06:47:38] WARNING: /workspace/src/objective/regression_obj.cu:152: reg:linear is now deprecated in favor of reg:squarederror.\n",
            "[06:56:35] WARNING: /workspace/src/objective/regression_obj.cu:152: reg:linear is now deprecated in favor of reg:squarederror.\n"
          ],
          "name": "stdout"
        }
      ]
    },
    {
      "cell_type": "code",
      "metadata": {
        "colab": {
          "base_uri": "https://localhost:8080/"
        },
        "id": "Xev4Ki1qnW0a",
        "outputId": "5b4e14e2-d5af-4e05-8b7d-d8656d0ed7f5"
      },
      "source": [
        "#np.mean(score)"
      ],
      "execution_count": null,
      "outputs": [
        {
          "output_type": "execute_result",
          "data": {
            "text/plain": [
              "-0.26945987219247886"
            ]
          },
          "metadata": {
            "tags": []
          },
          "execution_count": 58
        }
      ]
    },
    {
      "cell_type": "code",
      "metadata": {
        "id": "hGJDPEIPocTs"
      },
      "source": [
        "y_pred1 = xgb.predict(test_f)\n",
        "y_pred1 = np.expm1(y_pred1)"
      ],
      "execution_count": null,
      "outputs": []
    },
    {
      "cell_type": "code",
      "metadata": {
        "colab": {
          "base_uri": "https://localhost:8080/"
        },
        "id": "Bliz52k65gpd",
        "outputId": "aca7d5a6-031d-4c93-e13e-9a8926e053a9"
      },
      "source": [
        "y_pred1"
      ],
      "execution_count": null,
      "outputs": [
        {
          "output_type": "execute_result",
          "data": {
            "text/plain": [
              "array([2.042927 , 1.275885 , 3.5320377, ..., 1.1416446, 3.018926 ,\n",
              "       3.8963878], dtype=float32)"
            ]
          },
          "metadata": {
            "tags": []
          },
          "execution_count": 292
        }
      ]
    },
    {
      "cell_type": "markdown",
      "metadata": {
        "id": "4VvDTwnjqChF"
      },
      "source": [
        "## LGBM"
      ]
    },
    {
      "cell_type": "code",
      "metadata": {
        "id": "5St5nQGhqEa2"
      },
      "source": [
        "from lightgbm import LGBMRegressor"
      ],
      "execution_count": null,
      "outputs": []
    },
    {
      "cell_type": "code",
      "metadata": {
        "id": "3zc7ai6Dshu-"
      },
      "source": [
        "lgb_params = {\n",
        " 'min_data_in_leaf': [100, 500],\n",
        " 'learning_rate': [0.01, 0.1, 0.2],\n",
        " 'max_depth': [6, 9, 10, 15],\n",
        " 'num_leaves': [31, 63]}"
      ],
      "execution_count": null,
      "outputs": []
    },
    {
      "cell_type": "code",
      "metadata": {
        "id": "XtEOSxAUr_ij"
      },
      "source": [
        "lgb = LGBMRegressor(n_estimators = 1000, metric = 'rmse',\n",
        "                    lambda_l1 = 0.01, lambda_l2 = 0.01, objective = 'regression', boosting_type = 'gbdt', random_state=1, n_jobs=-1)\n",
        "#lgb.fit(X_train, y_train, eval_metric = 'rmse', eval_set = [(X_test, y_test)], early_stopping_rounds = 50)\n",
        "randlgb = RandomizedSearchCV(lgb, param_distributions= lgb_params, n_iter = 5, cv = 5)"
      ],
      "execution_count": null,
      "outputs": []
    },
    {
      "cell_type": "code",
      "metadata": {
        "colab": {
          "base_uri": "https://localhost:8080/"
        },
        "id": "4ZnjoKe5SoRk",
        "outputId": "b8a94922-298e-4a26-c74f-ec8472b560ff"
      },
      "source": [
        "randlgb.fit(X, y)"
      ],
      "execution_count": null,
      "outputs": [
        {
          "output_type": "execute_result",
          "data": {
            "text/plain": [
              "RandomizedSearchCV(cv=5, error_score=nan,\n",
              "                   estimator=LGBMRegressor(boosting_type='gbdt',\n",
              "                                           class_weight=None,\n",
              "                                           colsample_bytree=1.0,\n",
              "                                           importance_type='split',\n",
              "                                           lambda_l1=0.01, lambda_l2=0.01,\n",
              "                                           learning_rate=0.1, max_depth=-1,\n",
              "                                           metric='rmse', min_child_samples=20,\n",
              "                                           min_child_weight=0.001,\n",
              "                                           min_split_gain=0.0,\n",
              "                                           n_estimators=1000, n_jobs=-1,\n",
              "                                           num_leaves=31,\n",
              "                                           objective='regression'...\n",
              "                                           reg_lambda=0.0, silent=True,\n",
              "                                           subsample=1.0,\n",
              "                                           subsample_for_bin=200000,\n",
              "                                           subsample_freq=0),\n",
              "                   iid='deprecated', n_iter=5, n_jobs=None,\n",
              "                   param_distributions={'learning_rate': [0.01, 0.1, 0.2],\n",
              "                                        'max_depth': [6, 9, 10, 15],\n",
              "                                        'min_data_in_leaf': [100, 500],\n",
              "                                        'num_leaves': [31, 63]},\n",
              "                   pre_dispatch='2*n_jobs', random_state=None, refit=True,\n",
              "                   return_train_score=False, scoring=None, verbose=0)"
            ]
          },
          "metadata": {
            "tags": []
          },
          "execution_count": 264
        }
      ]
    },
    {
      "cell_type": "code",
      "metadata": {
        "colab": {
          "base_uri": "https://localhost:8080/"
        },
        "id": "9cIGPRHeW0d5",
        "outputId": "3f7826cb-a031-42b6-8866-70acb6961ed0"
      },
      "source": [
        "best_lgb = randlgb.best_estimator_\n",
        "best_lgb.fit(X, y, verbose = 50)"
      ],
      "execution_count": null,
      "outputs": [
        {
          "output_type": "execute_result",
          "data": {
            "text/plain": [
              "LGBMRegressor(boosting_type='gbdt', class_weight=None, colsample_bytree=1.0,\n",
              "              importance_type='split', lambda_l1=0.01, lambda_l2=0.01,\n",
              "              learning_rate=0.1, max_depth=10, metric='rmse',\n",
              "              min_child_samples=20, min_child_weight=0.001,\n",
              "              min_data_in_leaf=100, min_split_gain=0.0, n_estimators=1000,\n",
              "              n_jobs=-1, num_leaves=31, objective='regression', random_state=1,\n",
              "              reg_alpha=0.0, reg_lambda=0.0, silent=True, subsample=1.0,\n",
              "              subsample_for_bin=200000, subsample_freq=0)"
            ]
          },
          "metadata": {
            "tags": []
          },
          "execution_count": 265
        }
      ]
    },
    {
      "cell_type": "code",
      "metadata": {
        "id": "LB5Mfp3OuU0r"
      },
      "source": [
        "#lgb = LGBMRegressor(n_estimators = int(lgb.best_iteration_*1.2), **lgb_params, random_state=1, n_jobs=-1)\n",
        "#lgb_model = lgb.fit(X, y, verbose = 50)"
      ],
      "execution_count": null,
      "outputs": []
    },
    {
      "cell_type": "code",
      "metadata": {
        "id": "IM3ETqyhvoyR"
      },
      "source": [
        "#pd.DataFrame(list(zip(X.columns, best_lgb.feature_importances_)))"
      ],
      "execution_count": 2,
      "outputs": []
    },
    {
      "cell_type": "code",
      "metadata": {
        "id": "hMYTkDlevTEV"
      },
      "source": [
        "#score = cross_val_score(X = X,y = y,estimator = lgb, scoring = 'neg_root_mean_squared_error',cv = 3, n_jobs = -1)"
      ],
      "execution_count": null,
      "outputs": []
    },
    {
      "cell_type": "code",
      "metadata": {
        "colab": {
          "base_uri": "https://localhost:8080/"
        },
        "id": "3dFSsbtIveUe",
        "outputId": "91a7e6bf-352c-4a87-b83c-f9e9c7de3f85"
      },
      "source": [
        "#score"
      ],
      "execution_count": null,
      "outputs": [
        {
          "output_type": "execute_result",
          "data": {
            "text/plain": [
              "array([-0.19360348, -0.1913521 , -0.19775473])"
            ]
          },
          "metadata": {
            "tags": []
          },
          "execution_count": 283
        }
      ]
    },
    {
      "cell_type": "code",
      "metadata": {
        "id": "fq6usGosvfXG"
      },
      "source": [
        "\n",
        "y_pred2 = best_lgb.predict(test_f)\n",
        "y_pred2 = np.expm1(y_pred2)"
      ],
      "execution_count": null,
      "outputs": []
    },
    {
      "cell_type": "code",
      "metadata": {
        "colab": {
          "base_uri": "https://localhost:8080/"
        },
        "id": "ZR4AQEjU4wOJ",
        "outputId": "64bc70fd-42b6-4458-a37b-20988b772eb0"
      },
      "source": [
        "y_pred2"
      ],
      "execution_count": null,
      "outputs": [
        {
          "output_type": "execute_result",
          "data": {
            "text/plain": [
              "array([1.66912755, 1.13043442, 3.48106435, ..., 1.20408345, 3.46839563,\n",
              "       3.86421358])"
            ]
          },
          "metadata": {
            "tags": []
          },
          "execution_count": 268
        }
      ]
    },
    {
      "cell_type": "markdown",
      "metadata": {
        "id": "uFK3icFlhBan"
      },
      "source": [
        "## Catboost"
      ]
    },
    {
      "cell_type": "code",
      "metadata": {
        "colab": {
          "base_uri": "https://localhost:8080/"
        },
        "id": "C6tChS0s2lOa",
        "outputId": "5f52cae5-c989-4758-942f-fe148ce72c4d"
      },
      "source": [
        "!pip install catboost"
      ],
      "execution_count": null,
      "outputs": [
        {
          "output_type": "stream",
          "text": [
            "Collecting catboost\n",
            "\u001b[?25l  Downloading https://files.pythonhosted.org/packages/7e/c1/c1c4707013f9e2f8a96899dd3a87f66c9167d6d776a6dc8fe7ec8678d446/catboost-0.24.3-cp36-none-manylinux1_x86_64.whl (66.3MB)\n",
            "\u001b[K     |████████████████████████████████| 66.3MB 50kB/s \n",
            "\u001b[?25hRequirement already satisfied: plotly in /usr/local/lib/python3.6/dist-packages (from catboost) (4.4.1)\n",
            "Requirement already satisfied: matplotlib in /usr/local/lib/python3.6/dist-packages (from catboost) (3.2.2)\n",
            "Requirement already satisfied: six in /usr/local/lib/python3.6/dist-packages (from catboost) (1.15.0)\n",
            "Requirement already satisfied: scipy in /usr/local/lib/python3.6/dist-packages (from catboost) (1.4.1)\n",
            "Requirement already satisfied: numpy>=1.16.0 in /usr/local/lib/python3.6/dist-packages (from catboost) (1.18.5)\n",
            "Requirement already satisfied: graphviz in /usr/local/lib/python3.6/dist-packages (from catboost) (0.10.1)\n",
            "Requirement already satisfied: pandas>=0.24.0 in /usr/local/lib/python3.6/dist-packages (from catboost) (1.1.4)\n",
            "Requirement already satisfied: retrying>=1.3.3 in /usr/local/lib/python3.6/dist-packages (from plotly->catboost) (1.3.3)\n",
            "Requirement already satisfied: pyparsing!=2.0.4,!=2.1.2,!=2.1.6,>=2.0.1 in /usr/local/lib/python3.6/dist-packages (from matplotlib->catboost) (2.4.7)\n",
            "Requirement already satisfied: python-dateutil>=2.1 in /usr/local/lib/python3.6/dist-packages (from matplotlib->catboost) (2.8.1)\n",
            "Requirement already satisfied: kiwisolver>=1.0.1 in /usr/local/lib/python3.6/dist-packages (from matplotlib->catboost) (1.3.1)\n",
            "Requirement already satisfied: cycler>=0.10 in /usr/local/lib/python3.6/dist-packages (from matplotlib->catboost) (0.10.0)\n",
            "Requirement already satisfied: pytz>=2017.2 in /usr/local/lib/python3.6/dist-packages (from pandas>=0.24.0->catboost) (2018.9)\n",
            "Installing collected packages: catboost\n",
            "Successfully installed catboost-0.24.3\n"
          ],
          "name": "stdout"
        }
      ]
    },
    {
      "cell_type": "code",
      "metadata": {
        "id": "Mz23qjlywDNe"
      },
      "source": [
        "from catboost import CatBoostRegressor"
      ],
      "execution_count": null,
      "outputs": []
    },
    {
      "cell_type": "code",
      "metadata": {
        "colab": {
          "base_uri": "https://localhost:8080/"
        },
        "id": "GRS__jJLwTEn",
        "outputId": "81f78852-c676-488c-c6a6-9105b3d28af9"
      },
      "source": [
        "cat = CatBoostRegressor(task_type = 'GPU', iterations = 1500, learning_rate = 0.2, depth = 16, loss_function= 'RMSE', random_seed=1, verbose=100)\n",
        "cat.fit(X, y)\n"
      ],
      "execution_count": null,
      "outputs": [
        {
          "output_type": "stream",
          "text": [
            "0:\tlearn: 0.5250330\ttotal: 191ms\tremaining: 4m 45s\n",
            "100:\tlearn: 0.1709511\ttotal: 9.22s\tremaining: 2m 7s\n",
            "200:\tlearn: 0.1348894\ttotal: 18.5s\tremaining: 1m 59s\n",
            "300:\tlearn: 0.1161809\ttotal: 27.6s\tremaining: 1m 50s\n",
            "400:\tlearn: 0.1084467\ttotal: 36.8s\tremaining: 1m 40s\n",
            "500:\tlearn: 0.1001312\ttotal: 45.9s\tremaining: 1m 31s\n",
            "600:\tlearn: 0.0952008\ttotal: 55.1s\tremaining: 1m 22s\n",
            "700:\tlearn: 0.0879194\ttotal: 1m 4s\tremaining: 1m 13s\n",
            "800:\tlearn: 0.0854606\ttotal: 1m 13s\tremaining: 1m 3s\n",
            "900:\tlearn: 0.0844510\ttotal: 1m 22s\tremaining: 54.6s\n",
            "1000:\tlearn: 0.0832716\ttotal: 1m 31s\tremaining: 45.5s\n",
            "1100:\tlearn: 0.0821188\ttotal: 1m 40s\tremaining: 36.5s\n",
            "1200:\tlearn: 0.0809254\ttotal: 1m 50s\tremaining: 27.5s\n",
            "1300:\tlearn: 0.0796358\ttotal: 2m\tremaining: 18.4s\n",
            "1400:\tlearn: 0.0783250\ttotal: 2m 11s\tremaining: 9.32s\n",
            "1499:\tlearn: 0.0781931\ttotal: 2m 21s\tremaining: 0us\n"
          ],
          "name": "stdout"
        },
        {
          "output_type": "execute_result",
          "data": {
            "text/plain": [
              "<catboost.core.CatBoostRegressor at 0x7fa4e5fdb668>"
            ]
          },
          "metadata": {
            "tags": []
          },
          "execution_count": 259
        }
      ]
    },
    {
      "cell_type": "code",
      "metadata": {
        "id": "i2Mg5pkHQXXA"
      },
      "source": [
        "cat.save_model('cat.h5')"
      ],
      "execution_count": null,
      "outputs": []
    },
    {
      "cell_type": "code",
      "metadata": {
        "colab": {
          "base_uri": "https://localhost:8080/",
          "height": 483
        },
        "id": "e_aT4NPoh1Pl",
        "outputId": "01339492-104c-4ddf-ed17-77b8cb135edc"
      },
      "source": [
        "pd.DataFrame(list(zip(X.columns, cat.feature_importances_))).sort_values(1)"
      ],
      "execution_count": null,
      "outputs": [
        {
          "output_type": "execute_result",
          "data": {
            "text/html": [
              "<div>\n",
              "<style scoped>\n",
              "    .dataframe tbody tr th:only-of-type {\n",
              "        vertical-align: middle;\n",
              "    }\n",
              "\n",
              "    .dataframe tbody tr th {\n",
              "        vertical-align: top;\n",
              "    }\n",
              "\n",
              "    .dataframe thead th {\n",
              "        text-align: right;\n",
              "    }\n",
              "</style>\n",
              "<table border=\"1\" class=\"dataframe\">\n",
              "  <thead>\n",
              "    <tr style=\"text-align: right;\">\n",
              "      <th></th>\n",
              "      <th>0</th>\n",
              "      <th>1</th>\n",
              "    </tr>\n",
              "  </thead>\n",
              "  <tbody>\n",
              "    <tr>\n",
              "      <th>9</th>\n",
              "      <td>unique_desc_per_stock</td>\n",
              "      <td>1.441263</td>\n",
              "    </tr>\n",
              "    <tr>\n",
              "      <th>6</th>\n",
              "      <td>day</td>\n",
              "      <td>2.205275</td>\n",
              "    </tr>\n",
              "    <tr>\n",
              "      <th>5</th>\n",
              "      <td>dayofweek</td>\n",
              "      <td>2.260717</td>\n",
              "    </tr>\n",
              "    <tr>\n",
              "      <th>8</th>\n",
              "      <td>unique_stock_per_customer</td>\n",
              "      <td>2.333067</td>\n",
              "    </tr>\n",
              "    <tr>\n",
              "      <th>2</th>\n",
              "      <td>Quantity</td>\n",
              "      <td>2.542811</td>\n",
              "    </tr>\n",
              "    <tr>\n",
              "      <th>3</th>\n",
              "      <td>CustomerID</td>\n",
              "      <td>2.579680</td>\n",
              "    </tr>\n",
              "    <tr>\n",
              "      <th>12</th>\n",
              "      <td>quant_mean_per_daydesc</td>\n",
              "      <td>2.799533</td>\n",
              "    </tr>\n",
              "    <tr>\n",
              "      <th>4</th>\n",
              "      <td>month</td>\n",
              "      <td>3.387829</td>\n",
              "    </tr>\n",
              "    <tr>\n",
              "      <th>7</th>\n",
              "      <td>unique_stock_per_invoice</td>\n",
              "      <td>3.965145</td>\n",
              "    </tr>\n",
              "    <tr>\n",
              "      <th>13</th>\n",
              "      <td>quant_median_per_daydesc</td>\n",
              "      <td>6.338798</td>\n",
              "    </tr>\n",
              "    <tr>\n",
              "      <th>10</th>\n",
              "      <td>quant_mean_per_desc</td>\n",
              "      <td>15.425805</td>\n",
              "    </tr>\n",
              "    <tr>\n",
              "      <th>1</th>\n",
              "      <td>Description</td>\n",
              "      <td>17.515107</td>\n",
              "    </tr>\n",
              "    <tr>\n",
              "      <th>11</th>\n",
              "      <td>quant_median_per_desc</td>\n",
              "      <td>17.834019</td>\n",
              "    </tr>\n",
              "    <tr>\n",
              "      <th>0</th>\n",
              "      <td>StockCode</td>\n",
              "      <td>19.370950</td>\n",
              "    </tr>\n",
              "  </tbody>\n",
              "</table>\n",
              "</div>"
            ],
            "text/plain": [
              "                            0          1\n",
              "9       unique_desc_per_stock   1.441263\n",
              "6                         day   2.205275\n",
              "5                   dayofweek   2.260717\n",
              "8   unique_stock_per_customer   2.333067\n",
              "2                    Quantity   2.542811\n",
              "3                  CustomerID   2.579680\n",
              "12     quant_mean_per_daydesc   2.799533\n",
              "4                       month   3.387829\n",
              "7    unique_stock_per_invoice   3.965145\n",
              "13   quant_median_per_daydesc   6.338798\n",
              "10        quant_mean_per_desc  15.425805\n",
              "1                 Description  17.515107\n",
              "11      quant_median_per_desc  17.834019\n",
              "0                   StockCode  19.370950"
            ]
          },
          "metadata": {
            "tags": []
          },
          "execution_count": 255
        }
      ]
    },
    {
      "cell_type": "code",
      "metadata": {
        "id": "tsNC8jMl1ffy"
      },
      "source": [
        "#score = cross_val_score(X=X, y=y, estimator=cat, scoring='neg_root_mean_squared_error', cv=3)"
      ],
      "execution_count": null,
      "outputs": []
    },
    {
      "cell_type": "code",
      "metadata": {
        "colab": {
          "base_uri": "https://localhost:8080/"
        },
        "id": "8RBwb3O91VLT",
        "outputId": "69074dac-f3ec-4a6d-cdd4-1aa82827df65"
      },
      "source": [
        "#score"
      ],
      "execution_count": null,
      "outputs": [
        {
          "output_type": "execute_result",
          "data": {
            "text/plain": [
              "array([-0.24877585, -0.25008026, -0.25125497])"
            ]
          },
          "metadata": {
            "tags": []
          },
          "execution_count": 77
        }
      ]
    },
    {
      "cell_type": "code",
      "metadata": {
        "id": "cZMqSb3l10xx"
      },
      "source": [
        "\n",
        "y_pred3 = cat.predict(test_f)\n",
        "y_pred3 = np.expm1(y_pred3)"
      ],
      "execution_count": null,
      "outputs": []
    },
    {
      "cell_type": "code",
      "metadata": {
        "colab": {
          "base_uri": "https://localhost:8080/"
        },
        "id": "Hk29RARM5XIX",
        "outputId": "3b63dfd6-be86-405a-ba70-2c4c01ac4a24"
      },
      "source": [
        "y_pred3"
      ],
      "execution_count": null,
      "outputs": [
        {
          "output_type": "execute_result",
          "data": {
            "text/plain": [
              "array([1.57406184, 1.61833709, 3.36628232, ..., 0.9738654 , 3.55943291,\n",
              "       3.81688161])"
            ]
          },
          "metadata": {
            "tags": []
          },
          "execution_count": 261
        }
      ]
    },
    {
      "cell_type": "code",
      "metadata": {
        "id": "oApCUpi957d3"
      },
      "source": [
        "y_pred = (y_pred*0.1) + (y_pred2*0.8) + (y_pred3*0.1)\n"
      ],
      "execution_count": null,
      "outputs": []
    },
    {
      "cell_type": "code",
      "metadata": {
        "colab": {
          "base_uri": "https://localhost:8080/"
        },
        "id": "53Ju4o-f88Xr",
        "outputId": "aeb97dd0-9d1a-498a-e991-22ecfb0c41b3"
      },
      "source": [
        "y_pred"
      ],
      "execution_count": null,
      "outputs": [
        {
          "output_type": "execute_result",
          "data": {
            "text/plain": [
              "array([1.6600948 , 1.18842915, 3.47191715, ..., 1.17880347, 3.48312577,\n",
              "       3.8633561 ])"
            ]
          },
          "metadata": {
            "tags": []
          },
          "execution_count": 309
        }
      ]
    },
    {
      "cell_type": "code",
      "metadata": {
        "id": "lVAtq3v86sy-"
      },
      "source": [
        "output = pd.DataFrame({'UnitPrice' : np.abs(np.squeeze(y_pred))})\n",
        "output.to_csv('submission.csv', index = False)"
      ],
      "execution_count": null,
      "outputs": []
    }
  ]
}